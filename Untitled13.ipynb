{
  "nbformat": 4,
  "nbformat_minor": 0,
  "metadata": {
    "colab": {
      "provenance": [],
      "authorship_tag": "ABX9TyPrf8Jxt27WXC9LNgU7rE16",
      "include_colab_link": true
    },
    "kernelspec": {
      "name": "python3",
      "display_name": "Python 3"
    },
    "language_info": {
      "name": "python"
    }
  },
  "cells": [
    {
      "cell_type": "markdown",
      "metadata": {
        "id": "view-in-github",
        "colab_type": "text"
      },
      "source": [
        "<a href=\"https://colab.research.google.com/github/Navam16/Portfolio/blob/main/Untitled13.ipynb\" target=\"_parent\"><img src=\"https://colab.research.google.com/assets/colab-badge.svg\" alt=\"Open In Colab\"/></a>"
      ]
    },
    {
      "cell_type": "code",
      "source": [
        "# Install necessary libraries\n",
        "!pip install scikit-surprise numpy==1.23.5\n"
      ],
      "metadata": {
        "colab": {
          "base_uri": "https://localhost:8080/"
        },
        "id": "-xOKSx27PxyQ",
        "outputId": "e0cb04fe-e530-4723-fcc1-90b5e38754e8"
      },
      "execution_count": 1,
      "outputs": [
        {
          "output_type": "stream",
          "name": "stdout",
          "text": [
            "Requirement already satisfied: scikit-surprise in /usr/local/lib/python3.11/dist-packages (1.1.4)\n",
            "Requirement already satisfied: numpy==1.23.5 in /usr/local/lib/python3.11/dist-packages (1.23.5)\n",
            "Requirement already satisfied: joblib>=1.2.0 in /usr/local/lib/python3.11/dist-packages (from scikit-surprise) (1.4.2)\n",
            "Requirement already satisfied: scipy>=1.6.0 in /usr/local/lib/python3.11/dist-packages (from scikit-surprise) (1.14.1)\n"
          ]
        }
      ]
    },
    {
      "cell_type": "code",
      "source": [
        "# Import required libraries\n",
        "import pandas as pd\n",
        "import numpy as np\n",
        "from sklearn.feature_extraction.text import TfidfVectorizer\n",
        "from sklearn.metrics.pairwise import cosine_similarity\n",
        "from surprise import SVD, KNNBasic, Dataset, Reader\n",
        "from surprise.model_selection import cross_validate\n",
        "from sklearn.metrics import accuracy_score, roc_auc_score, precision_score, f1_score, confusion_matrix\n"
      ],
      "metadata": {
        "id": "7zHEPN9fP1zp"
      },
      "execution_count": 2,
      "outputs": []
    },
    {
      "cell_type": "code",
      "source": [
        " df = pd.read_csv('Coursera.csv')"
      ],
      "metadata": {
        "id": "PsxEZsdtd2B2"
      },
      "execution_count": 3,
      "outputs": []
    },
    {
      "cell_type": "code",
      "source": [
        "# Ensure all text columns are properly encoded\n",
        "df['Course Description'] = df['Course Description'].astype(str).apply(lambda x: x.encode('utf-8', 'ignore').decode('utf-8'))\n",
        "df['Skills'] = df['Skills'].astype(str).apply(lambda x: x.encode('utf-8', 'ignore').decode('utf-8'))\n",
        "\n",
        "# Convert Course Rating to numeric\n",
        "df['Course Rating'] = pd.to_numeric(df['Course Rating'], errors='coerce')\n",
        "\n",
        "# Drop missing values\n",
        "df = df.dropna()\n",
        "\n",
        "# Verify the cleaned data\n",
        "print(df.info())\n",
        "print(df.head())\n",
        "\n"
      ],
      "metadata": {
        "colab": {
          "base_uri": "https://localhost:8080/"
        },
        "id": "ySbzP_VCROge",
        "outputId": "05e72079-f535-4575-dab8-5b2db46cd065"
      },
      "execution_count": 7,
      "outputs": [
        {
          "output_type": "stream",
          "name": "stdout",
          "text": [
            "<class 'pandas.core.frame.DataFrame'>\n",
            "Index: 3440 entries, 0 to 3521\n",
            "Data columns (total 7 columns):\n",
            " #   Column              Non-Null Count  Dtype  \n",
            "---  ------              --------------  -----  \n",
            " 0   Course Name         3440 non-null   object \n",
            " 1   University          3440 non-null   object \n",
            " 2   Difficulty Level    3440 non-null   object \n",
            " 3   Course Rating       3440 non-null   float64\n",
            " 4   Course URL          3440 non-null   object \n",
            " 5   Course Description  3440 non-null   object \n",
            " 6   Skills              3440 non-null   object \n",
            "dtypes: float64(1), object(6)\n",
            "memory usage: 215.0+ KB\n",
            "None\n",
            "                                         Course Name  \\\n",
            "0  Write A Feature Length Screenplay For Film Or ...   \n",
            "1  Business Strategy: Business Model Canvas Analy...   \n",
            "2                      Silicon Thin Film Solar Cells   \n",
            "3                               Finance for Managers   \n",
            "4       Retrieve Data using Single-Table SQL Queries   \n",
            "\n",
            "                  University Difficulty Level  Course Rating  \\\n",
            "0  Michigan State University         Beginner            4.8   \n",
            "1   Coursera Project Network         Beginner            4.8   \n",
            "2        �cole Polytechnique         Advanced            4.1   \n",
            "3       IESE Business School     Intermediate            4.8   \n",
            "4   Coursera Project Network         Beginner            4.6   \n",
            "\n",
            "                                          Course URL  \\\n",
            "0  https://www.coursera.org/learn/write-a-feature...   \n",
            "1  https://www.coursera.org/learn/canvas-analysis...   \n",
            "2  https://www.coursera.org/learn/silicon-thin-fi...   \n",
            "3  https://www.coursera.org/learn/operational-fin...   \n",
            "4  https://www.coursera.org/learn/single-table-sq...   \n",
            "\n",
            "                                  Course Description  \\\n",
            "0  Write a Full Length Feature Film Script  In th...   \n",
            "1  By the end of this guided project, you will be...   \n",
            "2  This course consists of a general presentation...   \n",
            "3  When it comes to numbers, there is always more...   \n",
            "4  In this course you�ll learn how to effectively...   \n",
            "\n",
            "                                              Skills  \n",
            "0  Drama  Comedy  peering  screenwriting  film  D...  \n",
            "1  Finance  business plan  persona (user experien...  \n",
            "2  chemistry  physics  Solar Energy  film  lambda...  \n",
            "3  accounts receivable  dupont analysis  analysis...  \n",
            "4  Data Analysis  select (sql)  database manageme...  \n"
          ]
        }
      ]
    },
    {
      "cell_type": "code",
      "source": [
        "# Convert difficulty level into categorical codes\n",
        "df['Difficulty Level'] = df['Difficulty Level'].astype('category').cat.codes\n",
        "\n",
        "# Convert University column into categorical codes\n",
        "df['University'] = df['University'].astype('category').cat.codes\n",
        "\n",
        "# Convert 'Skills' into a list of keywords\n",
        "df['Skills'] = df['Skills'].apply(lambda x: x.split() if isinstance(x, str) else [])\n",
        "\n",
        "# Check the processed data\n",
        "print(df.head())\n"
      ],
      "metadata": {
        "colab": {
          "base_uri": "https://localhost:8080/"
        },
        "id": "c4v3Ze9vRHQ5",
        "outputId": "4e5c7f09-4814-4b0b-ecda-008fb42a6e62"
      },
      "execution_count": 9,
      "outputs": [
        {
          "output_type": "stream",
          "name": "stdout",
          "text": [
            "                                         Course Name  University  \\\n",
            "0  Write A Feature Length Screenplay For Film Or ...          71   \n",
            "1  Business Strategy: Business Model Canvas Analy...          25   \n",
            "2                      Silicon Thin Film Solar Cells         178   \n",
            "3                               Finance for Managers          52   \n",
            "4       Retrieve Data using Single-Table SQL Queries          25   \n",
            "\n",
            "   Difficulty Level  Course Rating  \\\n",
            "0                 1            4.8   \n",
            "1                 1            4.8   \n",
            "2                 0            4.1   \n",
            "3                 3            4.8   \n",
            "4                 1            4.6   \n",
            "\n",
            "                                          Course URL  \\\n",
            "0  https://www.coursera.org/learn/write-a-feature...   \n",
            "1  https://www.coursera.org/learn/canvas-analysis...   \n",
            "2  https://www.coursera.org/learn/silicon-thin-fi...   \n",
            "3  https://www.coursera.org/learn/operational-fin...   \n",
            "4  https://www.coursera.org/learn/single-table-sq...   \n",
            "\n",
            "                                  Course Description  \\\n",
            "0  Write a Full Length Feature Film Script  In th...   \n",
            "1  By the end of this guided project, you will be...   \n",
            "2  This course consists of a general presentation...   \n",
            "3  When it comes to numbers, there is always more...   \n",
            "4  In this course you�ll learn how to effectively...   \n",
            "\n",
            "                                              Skills  \n",
            "0  [Drama, Comedy, peering, screenwriting, film, ...  \n",
            "1  [Finance, business, plan, persona, (user, expe...  \n",
            "2  [chemistry, physics, Solar, Energy, film, lamb...  \n",
            "3  [accounts, receivable, dupont, analysis, analy...  \n",
            "4  [Data, Analysis, select, (sql), database, mana...  \n"
          ]
        }
      ]
    },
    {
      "cell_type": "code",
      "source": [
        "from sklearn.feature_extraction.text import TfidfVectorizer\n",
        "from sklearn.metrics.pairwise import cosine_similarity\n",
        "\n",
        "# TF-IDF Vectorization on Course Descriptions\n",
        "tfidf = TfidfVectorizer(stop_words='english')\n",
        "tfidf_matrix = tfidf.fit_transform(df['Course Description'])\n",
        "\n",
        "# Compute the Cosine Similarity Matrix\n",
        "cosine_sim = cosine_similarity(tfidf_matrix, tfidf_matrix)\n",
        "\n",
        "# Function to recommend similar courses\n",
        "def recommend_courses(course_title, num_recommendations=5):\n",
        "    idx = df[df['Course Name'].str.contains(course_title, case=False, na=False)].index\n",
        "    if len(idx) == 0:\n",
        "        return \"Course not found\"\n",
        "\n",
        "    idx = idx[0]  # Take first match\n",
        "    sim_scores = list(enumerate(cosine_sim[idx]))\n",
        "    sim_scores = sorted(sim_scores, key=lambda x: x[1], reverse=True)[1:num_recommendations+1]\n",
        "\n",
        "    course_indices = [i[0] for i in sim_scores]\n",
        "    return df.iloc[course_indices][['Course Name', 'University', 'Course Rating']]\n",
        "\n",
        "# Example: Get recommendations for a course\n",
        "print(recommend_courses(\"Finance for Managers\"))\n"
      ],
      "metadata": {
        "colab": {
          "base_uri": "https://localhost:8080/"
        },
        "id": "aOQTXfdQPnbP",
        "outputId": "6c344cd6-0cde-4a51-96dd-19398eb711f8"
      },
      "execution_count": 10,
      "outputs": [
        {
          "output_type": "stream",
          "name": "stdout",
          "text": [
            "                                            Course Name  University  \\\n",
            "1839  Fundamentals of financial and management accou...          93   \n",
            "1891        Accounting and Finance for IT professionals          56   \n",
            "1985                Introduction to Finance: The Basics         147   \n",
            "419                  Finance for Non-Financial Managers          34   \n",
            "1164                       Corporate Finance Essentials          52   \n",
            "\n",
            "      Course Rating  \n",
            "1839            4.7  \n",
            "1891            4.5  \n",
            "1985            4.6  \n",
            "419             4.2  \n",
            "1164            4.8  \n"
          ]
        }
      ]
    },
    {
      "cell_type": "code",
      "source": [
        "!pip install scikit-surprise\n",
        "\n",
        "from surprise import SVD, Dataset, Reader\n",
        "from surprise.model_selection import cross_validate\n",
        "\n",
        "# Prepare the data for Surprise\n",
        "reader = Reader(rating_scale=(0, 5))\n",
        "data = Dataset.load_from_df(df[['Course Name', 'University', 'Course Rating']], reader)\n",
        "\n",
        "# Train SVD model\n",
        "svd = SVD()\n",
        "cross_validate(svd, data, cv=5, verbose=True)\n"
      ],
      "metadata": {
        "colab": {
          "base_uri": "https://localhost:8080/"
        },
        "id": "1-8kDO1HR6kO",
        "outputId": "dcdd96c1-890e-40d7-b3c4-d37d67c3b89d"
      },
      "execution_count": 11,
      "outputs": [
        {
          "output_type": "stream",
          "name": "stdout",
          "text": [
            "Requirement already satisfied: scikit-surprise in /usr/local/lib/python3.11/dist-packages (1.1.4)\n",
            "Requirement already satisfied: joblib>=1.2.0 in /usr/local/lib/python3.11/dist-packages (from scikit-surprise) (1.4.2)\n",
            "Requirement already satisfied: numpy>=1.19.5 in /usr/local/lib/python3.11/dist-packages (from scikit-surprise) (1.23.5)\n",
            "Requirement already satisfied: scipy>=1.6.0 in /usr/local/lib/python3.11/dist-packages (from scikit-surprise) (1.14.1)\n",
            "Evaluating RMSE, MAE of algorithm SVD on 5 split(s).\n",
            "\n",
            "                  Fold 1  Fold 2  Fold 3  Fold 4  Fold 5  Mean    Std     \n",
            "RMSE (testset)    0.3191  0.3847  0.2979  0.3480  0.2939  0.3287  0.0339  \n",
            "MAE (testset)     0.2131  0.2336  0.2075  0.2213  0.2051  0.2161  0.0104  \n",
            "Fit time          0.04    0.04    0.06    0.04    0.05    0.05    0.01    \n",
            "Test time         0.00    0.00    0.00    0.00    0.00    0.00    0.00    \n"
          ]
        },
        {
          "output_type": "execute_result",
          "data": {
            "text/plain": [
              "{'test_rmse': array([0.31911239, 0.38471303, 0.29789472, 0.34795564, 0.29393323]),\n",
              " 'test_mae': array([0.21312072, 0.23355998, 0.20753588, 0.22132824, 0.2050541 ]),\n",
              " 'fit_time': (0.04284024238586426,\n",
              "  0.0445404052734375,\n",
              "  0.05904865264892578,\n",
              "  0.04378247261047363,\n",
              "  0.04876422882080078),\n",
              " 'test_time': (0.0032460689544677734,\n",
              "  0.002599954605102539,\n",
              "  0.0032858848571777344,\n",
              "  0.0027937889099121094,\n",
              "  0.0025484561920166016)}"
            ]
          },
          "metadata": {},
          "execution_count": 11
        }
      ]
    },
    {
      "cell_type": "code",
      "source": [
        "!pip install scikit-learn pandas numpy\n"
      ],
      "metadata": {
        "colab": {
          "base_uri": "https://localhost:8080/"
        },
        "id": "aPamdFMKSbZe",
        "outputId": "a48692b3-e917-4475-ccbe-49262b88e3ce"
      },
      "execution_count": 12,
      "outputs": [
        {
          "output_type": "stream",
          "name": "stdout",
          "text": [
            "Requirement already satisfied: scikit-learn in /usr/local/lib/python3.11/dist-packages (1.6.1)\n",
            "Requirement already satisfied: pandas in /usr/local/lib/python3.11/dist-packages (2.2.2)\n",
            "Requirement already satisfied: numpy in /usr/local/lib/python3.11/dist-packages (1.23.5)\n",
            "Requirement already satisfied: scipy>=1.6.0 in /usr/local/lib/python3.11/dist-packages (from scikit-learn) (1.14.1)\n",
            "Requirement already satisfied: joblib>=1.2.0 in /usr/local/lib/python3.11/dist-packages (from scikit-learn) (1.4.2)\n",
            "Requirement already satisfied: threadpoolctl>=3.1.0 in /usr/local/lib/python3.11/dist-packages (from scikit-learn) (3.6.0)\n",
            "Requirement already satisfied: python-dateutil>=2.8.2 in /usr/local/lib/python3.11/dist-packages (from pandas) (2.8.2)\n",
            "Requirement already satisfied: pytz>=2020.1 in /usr/local/lib/python3.11/dist-packages (from pandas) (2025.1)\n",
            "Requirement already satisfied: tzdata>=2022.7 in /usr/local/lib/python3.11/dist-packages (from pandas) (2025.1)\n",
            "Requirement already satisfied: six>=1.5 in /usr/local/lib/python3.11/dist-packages (from python-dateutil>=2.8.2->pandas) (1.17.0)\n"
          ]
        }
      ]
    },
    {
      "cell_type": "code",
      "source": [
        "from sklearn.feature_extraction.text import TfidfVectorizer\n",
        "from sklearn.metrics.pairwise import cosine_similarity\n",
        "\n",
        "# Ensure all columns are strings before concatenation\n",
        "df[\"combined_features\"] = (\n",
        "    df[\"Course Name\"].astype(str) + \" \" +\n",
        "    df[\"Course Description\"].astype(str) + \" \" +\n",
        "    df[\"Skills\"].astype(str)\n",
        ")\n",
        "\n",
        "# Convert text to numerical vectors using TF-IDF\n",
        "vectorizer = TfidfVectorizer(stop_words=\"english\")\n",
        "tfidf_matrix = vectorizer.fit_transform(df[\"combined_features\"])\n",
        "\n",
        "# Compute cosine similarity between all courses\n",
        "cosine_sim = cosine_similarity(tfidf_matrix, tfidf_matrix)\n",
        "\n",
        "# Function to recommend courses\n",
        "def recommend_courses(selected_indices, df, cosine_sim):\n",
        "    if not selected_indices:\n",
        "        return \"No courses selected. Please choose at least one course.\"\n",
        "\n",
        "    # Compute average similarity scores\n",
        "    sim_scores = sum(cosine_sim[selected_indices]) / len(selected_indices)\n",
        "\n",
        "    # Sort courses based on similarity scores (excluding already taken ones)\n",
        "    sorted_courses = sorted(enumerate(sim_scores), key=lambda x: x[1], reverse=True)\n",
        "    recommended_courses = [df.iloc[i[0]][\"Course Name\"] for i in sorted_courses if i[0] not in selected_indices][:5]\n",
        "\n",
        "    return recommended_courses\n",
        "\n",
        "# Display course options for the user\n",
        "print(\"\\n📋 Available Courses:\")\n",
        "for idx, course in enumerate(df[\"Course Name\"][:20], 1):  # Show first 20 courses\n",
        "    print(f\"{idx}. {course}\")\n",
        "\n",
        "# Ask user to select courses by number\n",
        "selected_indices = input(\"\\nEnter the numbers of courses you have taken (comma-separated): \")\n",
        "selected_indices = [int(i.strip()) - 1 for i in selected_indices.split(\",\") if i.strip().isdigit()]\n",
        "\n",
        "# Get recommendations\n",
        "recommendations = recommend_courses(selected_indices, df, cosine_sim)\n",
        "\n",
        "# Display recommendations\n",
        "print(\"\\n📚 Recommended Courses for You:\")\n",
        "for i, course in enumerate(recommendations, 1):\n",
        "    print(f\"{i}. {course}\")\n"
      ],
      "metadata": {
        "colab": {
          "base_uri": "https://localhost:8080/"
        },
        "id": "IqOmBvUBUeKx",
        "outputId": "aaf65dd2-d8ea-4752-b5e2-e8b942a8183e"
      },
      "execution_count": 3,
      "outputs": [
        {
          "output_type": "stream",
          "name": "stdout",
          "text": [
            "\n",
            "📋 Available Courses:\n",
            "1. Write A Feature Length Screenplay For Film Or Television\n",
            "2. Business Strategy: Business Model Canvas Analysis with Miro\n",
            "3. Silicon Thin Film Solar Cells\n",
            "4. Finance for Managers\n",
            "5. Retrieve Data using Single-Table SQL Queries\n",
            "6. Building Test Automation Framework using Selenium and TestNG\n",
            "7. Doing Business in China Capstone\n",
            "8. Programming Languages, Part A\n",
            "9. The Roles and Responsibilities of Nonprofit Boards of Directors within the Governance Process\n",
            "10. Business Russian Communication. Part 3\n",
            "11. Agile Projects:  Developing Tasks with Taiga\n",
            "12. Esports Management Capstone Project\n",
            "13. Hacking and Patching\n",
            "14. Business Statistics and Analysis Capstone\n",
            "15. Grab Data Fast with Vertical and Horizontal LOOKUP\n",
            "16. Global Health: An Interdisciplinary Overview\n",
            "17. Python Programming Essentials\n",
            "18. Creating Dashboards and Storytelling with Tableau\n",
            "19. Parallel programming\n",
            "20. Recommendation Systems with TensorFlow on GCP\n",
            "\n",
            "Enter the numbers of courses you have taken (comma-separated): 20\n",
            "\n",
            "📚 Recommended Courses for You:\n",
            "1. Movie Recommendation System using Collaborative Filtering\n",
            "2. End-to-End Machine Learning with TensorFlow on GCP\n",
            "3. Applying Machine Learning to your Data with GCP\n",
            "4. How Google does Machine Learning\n",
            "5. Machine Learning for Business Professionals\n"
          ]
        }
      ]
    },
    {
      "cell_type": "code",
      "source": [
        "!pip install streamlit ngrok\n"
      ],
      "metadata": {
        "colab": {
          "base_uri": "https://localhost:8080/"
        },
        "id": "RcVEtFEJpIfx",
        "outputId": "9c484119-64fa-4dba-d012-a5d2edec0e22"
      },
      "execution_count": 4,
      "outputs": [
        {
          "output_type": "stream",
          "name": "stdout",
          "text": [
            "Collecting streamlit\n",
            "  Downloading streamlit-1.43.2-py2.py3-none-any.whl.metadata (8.9 kB)\n",
            "Collecting ngrok\n",
            "  Downloading ngrok-1.4.0-cp37-abi3-manylinux_2_17_x86_64.manylinux2014_x86_64.whl.metadata (19 kB)\n",
            "Requirement already satisfied: altair<6,>=4.0 in /usr/local/lib/python3.11/dist-packages (from streamlit) (5.5.0)\n",
            "Requirement already satisfied: blinker<2,>=1.0.0 in /usr/local/lib/python3.11/dist-packages (from streamlit) (1.9.0)\n",
            "Requirement already satisfied: cachetools<6,>=4.0 in /usr/local/lib/python3.11/dist-packages (from streamlit) (5.5.2)\n",
            "Requirement already satisfied: click<9,>=7.0 in /usr/local/lib/python3.11/dist-packages (from streamlit) (8.1.8)\n",
            "Requirement already satisfied: numpy<3,>=1.23 in /usr/local/lib/python3.11/dist-packages (from streamlit) (2.0.2)\n",
            "Requirement already satisfied: packaging<25,>=20 in /usr/local/lib/python3.11/dist-packages (from streamlit) (24.2)\n",
            "Requirement already satisfied: pandas<3,>=1.4.0 in /usr/local/lib/python3.11/dist-packages (from streamlit) (2.2.2)\n",
            "Requirement already satisfied: pillow<12,>=7.1.0 in /usr/local/lib/python3.11/dist-packages (from streamlit) (11.1.0)\n",
            "Requirement already satisfied: protobuf<6,>=3.20 in /usr/local/lib/python3.11/dist-packages (from streamlit) (5.29.3)\n",
            "Requirement already satisfied: pyarrow>=7.0 in /usr/local/lib/python3.11/dist-packages (from streamlit) (18.1.0)\n",
            "Requirement already satisfied: requests<3,>=2.27 in /usr/local/lib/python3.11/dist-packages (from streamlit) (2.32.3)\n",
            "Requirement already satisfied: tenacity<10,>=8.1.0 in /usr/local/lib/python3.11/dist-packages (from streamlit) (9.0.0)\n",
            "Requirement already satisfied: toml<2,>=0.10.1 in /usr/local/lib/python3.11/dist-packages (from streamlit) (0.10.2)\n",
            "Requirement already satisfied: typing-extensions<5,>=4.4.0 in /usr/local/lib/python3.11/dist-packages (from streamlit) (4.12.2)\n",
            "Collecting watchdog<7,>=2.1.5 (from streamlit)\n",
            "  Downloading watchdog-6.0.0-py3-none-manylinux2014_x86_64.whl.metadata (44 kB)\n",
            "\u001b[2K     \u001b[90m━━━━━━━━━━━━━━━━━━━━━━━━━━━━━━━━━━━━━━━━\u001b[0m \u001b[32m44.3/44.3 kB\u001b[0m \u001b[31m3.4 MB/s\u001b[0m eta \u001b[36m0:00:00\u001b[0m\n",
            "\u001b[?25hRequirement already satisfied: gitpython!=3.1.19,<4,>=3.0.7 in /usr/local/lib/python3.11/dist-packages (from streamlit) (3.1.44)\n",
            "Collecting pydeck<1,>=0.8.0b4 (from streamlit)\n",
            "  Downloading pydeck-0.9.1-py2.py3-none-any.whl.metadata (4.1 kB)\n",
            "Requirement already satisfied: tornado<7,>=6.0.3 in /usr/local/lib/python3.11/dist-packages (from streamlit) (6.4.2)\n",
            "Requirement already satisfied: jinja2 in /usr/local/lib/python3.11/dist-packages (from altair<6,>=4.0->streamlit) (3.1.6)\n",
            "Requirement already satisfied: jsonschema>=3.0 in /usr/local/lib/python3.11/dist-packages (from altair<6,>=4.0->streamlit) (4.23.0)\n",
            "Requirement already satisfied: narwhals>=1.14.2 in /usr/local/lib/python3.11/dist-packages (from altair<6,>=4.0->streamlit) (1.31.0)\n",
            "Requirement already satisfied: gitdb<5,>=4.0.1 in /usr/local/lib/python3.11/dist-packages (from gitpython!=3.1.19,<4,>=3.0.7->streamlit) (4.0.12)\n",
            "Requirement already satisfied: python-dateutil>=2.8.2 in /usr/local/lib/python3.11/dist-packages (from pandas<3,>=1.4.0->streamlit) (2.8.2)\n",
            "Requirement already satisfied: pytz>=2020.1 in /usr/local/lib/python3.11/dist-packages (from pandas<3,>=1.4.0->streamlit) (2025.1)\n",
            "Requirement already satisfied: tzdata>=2022.7 in /usr/local/lib/python3.11/dist-packages (from pandas<3,>=1.4.0->streamlit) (2025.1)\n",
            "Requirement already satisfied: charset-normalizer<4,>=2 in /usr/local/lib/python3.11/dist-packages (from requests<3,>=2.27->streamlit) (3.4.1)\n",
            "Requirement already satisfied: idna<4,>=2.5 in /usr/local/lib/python3.11/dist-packages (from requests<3,>=2.27->streamlit) (3.10)\n",
            "Requirement already satisfied: urllib3<3,>=1.21.1 in /usr/local/lib/python3.11/dist-packages (from requests<3,>=2.27->streamlit) (2.3.0)\n",
            "Requirement already satisfied: certifi>=2017.4.17 in /usr/local/lib/python3.11/dist-packages (from requests<3,>=2.27->streamlit) (2025.1.31)\n",
            "Requirement already satisfied: smmap<6,>=3.0.1 in /usr/local/lib/python3.11/dist-packages (from gitdb<5,>=4.0.1->gitpython!=3.1.19,<4,>=3.0.7->streamlit) (5.0.2)\n",
            "Requirement already satisfied: MarkupSafe>=2.0 in /usr/local/lib/python3.11/dist-packages (from jinja2->altair<6,>=4.0->streamlit) (3.0.2)\n",
            "Requirement already satisfied: attrs>=22.2.0 in /usr/local/lib/python3.11/dist-packages (from jsonschema>=3.0->altair<6,>=4.0->streamlit) (25.3.0)\n",
            "Requirement already satisfied: jsonschema-specifications>=2023.03.6 in /usr/local/lib/python3.11/dist-packages (from jsonschema>=3.0->altair<6,>=4.0->streamlit) (2024.10.1)\n",
            "Requirement already satisfied: referencing>=0.28.4 in /usr/local/lib/python3.11/dist-packages (from jsonschema>=3.0->altair<6,>=4.0->streamlit) (0.36.2)\n",
            "Requirement already satisfied: rpds-py>=0.7.1 in /usr/local/lib/python3.11/dist-packages (from jsonschema>=3.0->altair<6,>=4.0->streamlit) (0.23.1)\n",
            "Requirement already satisfied: six>=1.5 in /usr/local/lib/python3.11/dist-packages (from python-dateutil>=2.8.2->pandas<3,>=1.4.0->streamlit) (1.17.0)\n",
            "Downloading streamlit-1.43.2-py2.py3-none-any.whl (9.7 MB)\n",
            "\u001b[2K   \u001b[90m━━━━━━━━━━━━━━━━━━━━━━━━━━━━━━━━━━━━━━━━\u001b[0m \u001b[32m9.7/9.7 MB\u001b[0m \u001b[31m72.1 MB/s\u001b[0m eta \u001b[36m0:00:00\u001b[0m\n",
            "\u001b[?25hDownloading ngrok-1.4.0-cp37-abi3-manylinux_2_17_x86_64.manylinux2014_x86_64.whl (3.1 MB)\n",
            "\u001b[2K   \u001b[90m━━━━━━━━━━━━━━━━━━━━━━━━━━━━━━━━━━━━━━━━\u001b[0m \u001b[32m3.1/3.1 MB\u001b[0m \u001b[31m59.0 MB/s\u001b[0m eta \u001b[36m0:00:00\u001b[0m\n",
            "\u001b[?25hDownloading pydeck-0.9.1-py2.py3-none-any.whl (6.9 MB)\n",
            "\u001b[2K   \u001b[90m━━━━━━━━━━━━━━━━━━━━━━━━━━━━━━━━━━━━━━━━\u001b[0m \u001b[32m6.9/6.9 MB\u001b[0m \u001b[31m71.4 MB/s\u001b[0m eta \u001b[36m0:00:00\u001b[0m\n",
            "\u001b[?25hDownloading watchdog-6.0.0-py3-none-manylinux2014_x86_64.whl (79 kB)\n",
            "\u001b[2K   \u001b[90m━━━━━━━━━━━━━━━━━━━━━━━━━━━━━━━━━━━━━━━━\u001b[0m \u001b[32m79.1/79.1 kB\u001b[0m \u001b[31m6.6 MB/s\u001b[0m eta \u001b[36m0:00:00\u001b[0m\n",
            "\u001b[?25hInstalling collected packages: watchdog, ngrok, pydeck, streamlit\n",
            "Successfully installed ngrok-1.4.0 pydeck-0.9.1 streamlit-1.43.2 watchdog-6.0.0\n"
          ]
        }
      ]
    },
    {
      "cell_type": "code",
      "source": [
        "%%writefile app.py\n",
        "import streamlit as st\n",
        "import pandas as pd\n",
        "import pickle  # For loading the trained model\n",
        "from sklearn.feature_extraction.text import TfidfVectorizer\n",
        "\n",
        "# Load dataset\n",
        "df = pd.read_csv(\"Coursera.csv\")\n",
        "\n",
        "# Load trained recommendation model\n",
        "with open(\"course_recommendation_model.pkl\", \"rb\") as file:\n",
        "    model = pickle.load(file)\n",
        "\n",
        "# Load TF-IDF vectorizer (if used)\n",
        "with open(\"tfidf_vectorizer.pkl\", \"rb\") as file:\n",
        "    vectorizer = pickle.load(file)\n",
        "\n",
        "# Streamlit UI\n",
        "st.title(\"🎓 Course Recommendation System\")\n",
        "st.write(\"Select the courses you've previously taken, and we'll recommend new ones for you!\")\n",
        "\n",
        "# User selects past courses\n",
        "selected_courses = st.multiselect(\"Select your past courses:\", df[\"Course Name\"].unique())\n",
        "\n",
        "# Recommend courses\n",
        "if st.button(\"Recommend\"):\n",
        "    if selected_courses:\n",
        "        # Convert selected courses into vectorized form\n",
        "        selected_text = \" \".join(selected_courses)\n",
        "        user_vector = vectorizer.transform([selected_text])\n",
        "\n",
        "        # Get recommendations\n",
        "        recommended_courses = model.kneighbors(user_vector, n_neighbors=5)[1][0]\n",
        "        st.subheader(\"📌 Recommended Courses for You:\")\n",
        "        for idx in recommended_courses:\n",
        "            st.write(f\"✅ {df.iloc[idx]['Course Name']}\")\n",
        "\n",
        "    else:\n",
        "        st.warning(\"Please select at least one course!\")\n"
      ],
      "metadata": {
        "colab": {
          "base_uri": "https://localhost:8080/"
        },
        "id": "Cekcz4FApK8x",
        "outputId": "4aca1483-862a-4b51-b2f3-ea8e2bf0ab90"
      },
      "execution_count": 5,
      "outputs": [
        {
          "output_type": "stream",
          "name": "stdout",
          "text": [
            "Writing app.py\n"
          ]
        }
      ]
    },
    {
      "cell_type": "code",
      "source": [
        "!streamlit run app.py & npx localtunnel --port 8501\n"
      ],
      "metadata": {
        "colab": {
          "base_uri": "https://localhost:8080/"
        },
        "id": "mgwvvkyfpa1A",
        "outputId": "7121c8a9-c740-47b3-fd68-4d330ad5665c"
      },
      "execution_count": 6,
      "outputs": [
        {
          "output_type": "stream",
          "name": "stdout",
          "text": [
            "\u001b[1G\u001b[0K⠙\u001b[1G\u001b[0K⠹\u001b[1G\u001b[0K⠸\u001b[1G\u001b[0K⠼\n",
            "Collecting usage statistics. To deactivate, set browser.gatherUsageStats to false.\n",
            "\u001b[0m\n",
            "\u001b[1G\u001b[0K⠴\u001b[1G\u001b[0K⠦\u001b[1G\u001b[0K⠧\u001b[1G\u001b[0K⠇\u001b[1G\u001b[0K⠏\u001b[1G\u001b[0K⠋\u001b[1G\u001b[0K⠙\u001b[1G\u001b[0K⠹\u001b[1G\u001b[0K⠸\u001b[0m\n",
            "\u001b[34m\u001b[1m  You can now view your Streamlit app in your browser.\u001b[0m\n",
            "\u001b[0m\n",
            "\u001b[34m  Local URL: \u001b[0m\u001b[1mhttp://localhost:8501\u001b[0m\n",
            "\u001b[34m  Network URL: \u001b[0m\u001b[1mhttp://172.28.0.12:8501\u001b[0m\n",
            "\u001b[34m  External URL: \u001b[0m\u001b[1mhttp://35.188.248.67:8501\u001b[0m\n",
            "\u001b[0m\n",
            "\u001b[1G\u001b[0K⠼\u001b[1G\u001b[0K\u001b[1G\u001b[0JNeed to install the following packages:\n",
            "localtunnel@2.0.2\n",
            "Ok to proceed? (y) \u001b[20Gy\n",
            "\n",
            "\u001b[1G\u001b[0K⠙\u001b[1G\u001b[0K⠹\u001b[1G\u001b[0K⠸\u001b[1G\u001b[0K⠼\u001b[1G\u001b[0K⠴\u001b[1G\u001b[0K⠦\u001b[1G\u001b[0K⠧\u001b[1G\u001b[0K⠇\u001b[1G\u001b[0K⠏\u001b[1G\u001b[0K⠋\u001b[1G\u001b[0K⠙\u001b[1G\u001b[0K⠹\u001b[1G\u001b[0K⠸\u001b[1G\u001b[0K⠼\u001b[1G\u001b[0K⠴\u001b[1G\u001b[0K⠦\u001b[1G\u001b[0K⠧\u001b[1G\u001b[0K⠇\u001b[1G\u001b[0Kyour url is: https://ripe-dots-deny.loca.lt\n",
            "\u001b[34m  Stopping...\u001b[0m\n",
            "^C\n"
          ]
        }
      ]
    },
    {
      "cell_type": "code",
      "source": [
        "!pip install pyngrok\n"
      ],
      "metadata": {
        "colab": {
          "base_uri": "https://localhost:8080/"
        },
        "id": "Du8ZESvbqWVn",
        "outputId": "430d5907-f15d-4556-d14b-e20c36574e9c"
      },
      "execution_count": 7,
      "outputs": [
        {
          "output_type": "stream",
          "name": "stdout",
          "text": [
            "Collecting pyngrok\n",
            "  Downloading pyngrok-7.2.3-py3-none-any.whl.metadata (8.7 kB)\n",
            "Requirement already satisfied: PyYAML>=5.1 in /usr/local/lib/python3.11/dist-packages (from pyngrok) (6.0.2)\n",
            "Downloading pyngrok-7.2.3-py3-none-any.whl (23 kB)\n",
            "Installing collected packages: pyngrok\n",
            "Successfully installed pyngrok-7.2.3\n"
          ]
        }
      ]
    }
  ]
}